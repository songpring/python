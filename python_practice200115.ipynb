{
  "nbformat": 4,
  "nbformat_minor": 0,
  "metadata": {
    "colab": {
      "name": "Welcome To Colaboratory",
      "provenance": [],
      "collapsed_sections": [],
      "include_colab_link": true
    },
    "kernelspec": {
      "display_name": "Python 3",
      "name": "python3"
    }
  },
  "cells": [
    {
      "cell_type": "markdown",
      "metadata": {
        "id": "view-in-github",
        "colab_type": "text"
      },
      "source": [
        "<a href=\"https://colab.research.google.com/github/songpring/python/blob/master/python_practice200115.ipynb\" target=\"_parent\"><img src=\"https://colab.research.google.com/assets/colab-badge.svg\" alt=\"Open In Colab\"/></a>"
      ]
    },
    {
      "cell_type": "markdown",
      "metadata": {
        "colab_type": "text",
        "id": "5fCEDCU_qrC0"
      },
      "source": [
        "<p><img alt=\"Colaboratory logo\" height=\"45px\" src=\"/img/colab_favicon.ico\" align=\"left\" hspace=\"10px\" vspace=\"0px\"></p>\n",
        "\n",
        "<h1>Welcome to Colaboratory!</h1>\n",
        "\n",
        "\n",
        "Colaboratory is a free Jupyter notebook environment that requires no setup and runs entirely in the cloud.\n",
        "\n",
        "With Colaboratory you can write and execute code, save and share your analyses, and access powerful computing resources, all for free from your browser."
      ]
    },
    {
      "cell_type": "code",
      "metadata": {
        "colab_type": "code",
        "id": "xitplqMNk_Hc",
        "outputId": "ed4f60d2-878d-4056-c438-352dac39a112",
        "colab": {
          "height": 420
        }
      },
      "source": [
        "#@title Introducing Colaboratory { display-mode: \"form\" }\n",
        "#@markdown This 3-minute video gives an overview of the key features of Colaboratory:\n",
        "from IPython.display import YouTubeVideo\n",
        "YouTubeVideo('inN8seMm7UI', width=600, height=400)"
      ],
      "execution_count": 0,
      "outputs": [
        {
          "output_type": "execute_result",
          "data": {
            "text/html": [
              "\n",
              "        <iframe\n",
              "            width=\"600\"\n",
              "            height=\"400\"\n",
              "            src=\"https://www.youtube.com/embed/inN8seMm7UI\"\n",
              "            frameborder=\"0\"\n",
              "            allowfullscreen\n",
              "        ></iframe>\n",
              "        "
            ],
            "text/plain": [
              "<IPython.lib.display.YouTubeVideo at 0x7f956e9dda50>"
            ]
          },
          "metadata": {
            "tags": []
          },
          "execution_count": 0
        }
      ]
    },
    {
      "cell_type": "code",
      "metadata": {
        "id": "UFoGNCm2Hq2e",
        "colab_type": "code",
        "colab": {
          "base_uri": "https://localhost:8080/",
          "height": 1000
        },
        "outputId": "340959d9-0e52-46ab-8171-d0b4f6a1974b"
      },
      "source": [
        "for i in range(100):\n",
        "  print(\"안녕!\")"
      ],
      "execution_count": 1,
      "outputs": [
        {
          "output_type": "stream",
          "text": [
            "안녕!\n",
            "안녕!\n",
            "안녕!\n",
            "안녕!\n",
            "안녕!\n",
            "안녕!\n",
            "안녕!\n",
            "안녕!\n",
            "안녕!\n",
            "안녕!\n",
            "안녕!\n",
            "안녕!\n",
            "안녕!\n",
            "안녕!\n",
            "안녕!\n",
            "안녕!\n",
            "안녕!\n",
            "안녕!\n",
            "안녕!\n",
            "안녕!\n",
            "안녕!\n",
            "안녕!\n",
            "안녕!\n",
            "안녕!\n",
            "안녕!\n",
            "안녕!\n",
            "안녕!\n",
            "안녕!\n",
            "안녕!\n",
            "안녕!\n",
            "안녕!\n",
            "안녕!\n",
            "안녕!\n",
            "안녕!\n",
            "안녕!\n",
            "안녕!\n",
            "안녕!\n",
            "안녕!\n",
            "안녕!\n",
            "안녕!\n",
            "안녕!\n",
            "안녕!\n",
            "안녕!\n",
            "안녕!\n",
            "안녕!\n",
            "안녕!\n",
            "안녕!\n",
            "안녕!\n",
            "안녕!\n",
            "안녕!\n",
            "안녕!\n",
            "안녕!\n",
            "안녕!\n",
            "안녕!\n",
            "안녕!\n",
            "안녕!\n",
            "안녕!\n",
            "안녕!\n",
            "안녕!\n",
            "안녕!\n",
            "안녕!\n",
            "안녕!\n",
            "안녕!\n",
            "안녕!\n",
            "안녕!\n",
            "안녕!\n",
            "안녕!\n",
            "안녕!\n",
            "안녕!\n",
            "안녕!\n",
            "안녕!\n",
            "안녕!\n",
            "안녕!\n",
            "안녕!\n",
            "안녕!\n",
            "안녕!\n",
            "안녕!\n",
            "안녕!\n",
            "안녕!\n",
            "안녕!\n",
            "안녕!\n",
            "안녕!\n",
            "안녕!\n",
            "안녕!\n",
            "안녕!\n",
            "안녕!\n",
            "안녕!\n",
            "안녕!\n",
            "안녕!\n",
            "안녕!\n",
            "안녕!\n",
            "안녕!\n",
            "안녕!\n",
            "안녕!\n",
            "안녕!\n",
            "안녕!\n",
            "안녕!\n",
            "안녕!\n",
            "안녕!\n",
            "안녕!\n"
          ],
          "name": "stdout"
        }
      ]
    },
    {
      "cell_type": "code",
      "metadata": {
        "id": "w0CuLuZvIP9u",
        "colab_type": "code",
        "colab": {
          "base_uri": "https://localhost:8080/",
          "height": 1000
        },
        "outputId": "fdf30139-1327-4121-8fe5-db9032631a97"
      },
      "source": [
        "for i in range(100):\n",
        "  print(\"%d \" % int(i + 1))"
      ],
      "execution_count": 5,
      "outputs": [
        {
          "output_type": "stream",
          "text": [
            "1 \n",
            "2 \n",
            "3 \n",
            "4 \n",
            "5 \n",
            "6 \n",
            "7 \n",
            "8 \n",
            "9 \n",
            "10 \n",
            "11 \n",
            "12 \n",
            "13 \n",
            "14 \n",
            "15 \n",
            "16 \n",
            "17 \n",
            "18 \n",
            "19 \n",
            "20 \n",
            "21 \n",
            "22 \n",
            "23 \n",
            "24 \n",
            "25 \n",
            "26 \n",
            "27 \n",
            "28 \n",
            "29 \n",
            "30 \n",
            "31 \n",
            "32 \n",
            "33 \n",
            "34 \n",
            "35 \n",
            "36 \n",
            "37 \n",
            "38 \n",
            "39 \n",
            "40 \n",
            "41 \n",
            "42 \n",
            "43 \n",
            "44 \n",
            "45 \n",
            "46 \n",
            "47 \n",
            "48 \n",
            "49 \n",
            "50 \n",
            "51 \n",
            "52 \n",
            "53 \n",
            "54 \n",
            "55 \n",
            "56 \n",
            "57 \n",
            "58 \n",
            "59 \n",
            "60 \n",
            "61 \n",
            "62 \n",
            "63 \n",
            "64 \n",
            "65 \n",
            "66 \n",
            "67 \n",
            "68 \n",
            "69 \n",
            "70 \n",
            "71 \n",
            "72 \n",
            "73 \n",
            "74 \n",
            "75 \n",
            "76 \n",
            "77 \n",
            "78 \n",
            "79 \n",
            "80 \n",
            "81 \n",
            "82 \n",
            "83 \n",
            "84 \n",
            "85 \n",
            "86 \n",
            "87 \n",
            "88 \n",
            "89 \n",
            "90 \n",
            "91 \n",
            "92 \n",
            "93 \n",
            "94 \n",
            "95 \n",
            "96 \n",
            "97 \n",
            "98 \n",
            "99 \n",
            "100 \n"
          ],
          "name": "stdout"
        }
      ]
    },
    {
      "cell_type": "code",
      "metadata": {
        "id": "KhINTUFZI5iW",
        "colab_type": "code",
        "colab": {
          "base_uri": "https://localhost:8080/",
          "height": 917
        },
        "outputId": "934534fc-f907-45c7-b726-a6325ead1cf3"
      },
      "source": [
        "for i in range(1,100,2):\n",
        "  print(\"%d\"%i)"
      ],
      "execution_count": 6,
      "outputs": [
        {
          "output_type": "stream",
          "text": [
            "1\n",
            "3\n",
            "5\n",
            "7\n",
            "9\n",
            "11\n",
            "13\n",
            "15\n",
            "17\n",
            "19\n",
            "21\n",
            "23\n",
            "25\n",
            "27\n",
            "29\n",
            "31\n",
            "33\n",
            "35\n",
            "37\n",
            "39\n",
            "41\n",
            "43\n",
            "45\n",
            "47\n",
            "49\n",
            "51\n",
            "53\n",
            "55\n",
            "57\n",
            "59\n",
            "61\n",
            "63\n",
            "65\n",
            "67\n",
            "69\n",
            "71\n",
            "73\n",
            "75\n",
            "77\n",
            "79\n",
            "81\n",
            "83\n",
            "85\n",
            "87\n",
            "89\n",
            "91\n",
            "93\n",
            "95\n",
            "97\n",
            "99\n"
          ],
          "name": "stdout"
        }
      ]
    },
    {
      "cell_type": "code",
      "metadata": {
        "id": "xToOu_G3JCwx",
        "colab_type": "code",
        "colab": {
          "base_uri": "https://localhost:8080/",
          "height": 917
        },
        "outputId": "d401838c-b02b-4bb8-d93a-d5b8c5965e89"
      },
      "source": [
        "for i in range(1,101):\n",
        "  if i%2==0:\n",
        "    print(\"%d\"%i)"
      ],
      "execution_count": 7,
      "outputs": [
        {
          "output_type": "stream",
          "text": [
            "2\n",
            "4\n",
            "6\n",
            "8\n",
            "10\n",
            "12\n",
            "14\n",
            "16\n",
            "18\n",
            "20\n",
            "22\n",
            "24\n",
            "26\n",
            "28\n",
            "30\n",
            "32\n",
            "34\n",
            "36\n",
            "38\n",
            "40\n",
            "42\n",
            "44\n",
            "46\n",
            "48\n",
            "50\n",
            "52\n",
            "54\n",
            "56\n",
            "58\n",
            "60\n",
            "62\n",
            "64\n",
            "66\n",
            "68\n",
            "70\n",
            "72\n",
            "74\n",
            "76\n",
            "78\n",
            "80\n",
            "82\n",
            "84\n",
            "86\n",
            "88\n",
            "90\n",
            "92\n",
            "94\n",
            "96\n",
            "98\n",
            "100\n"
          ],
          "name": "stdout"
        }
      ]
    },
    {
      "cell_type": "code",
      "metadata": {
        "id": "RzsCRydtJUaF",
        "colab_type": "code",
        "colab": {
          "base_uri": "https://localhost:8080/",
          "height": 1000
        },
        "outputId": "d454c3bd-59ca-4d7c-8ef5-7af22764ef81"
      },
      "source": [
        "for i in range(1,1000):\n",
        "  if i%5==0:\n",
        "    print(\"%d\"%i)"
      ],
      "execution_count": 9,
      "outputs": [
        {
          "output_type": "stream",
          "text": [
            "5\n",
            "10\n",
            "15\n",
            "20\n",
            "25\n",
            "30\n",
            "35\n",
            "40\n",
            "45\n",
            "50\n",
            "55\n",
            "60\n",
            "65\n",
            "70\n",
            "75\n",
            "80\n",
            "85\n",
            "90\n",
            "95\n",
            "100\n",
            "105\n",
            "110\n",
            "115\n",
            "120\n",
            "125\n",
            "130\n",
            "135\n",
            "140\n",
            "145\n",
            "150\n",
            "155\n",
            "160\n",
            "165\n",
            "170\n",
            "175\n",
            "180\n",
            "185\n",
            "190\n",
            "195\n",
            "200\n",
            "205\n",
            "210\n",
            "215\n",
            "220\n",
            "225\n",
            "230\n",
            "235\n",
            "240\n",
            "245\n",
            "250\n",
            "255\n",
            "260\n",
            "265\n",
            "270\n",
            "275\n",
            "280\n",
            "285\n",
            "290\n",
            "295\n",
            "300\n",
            "305\n",
            "310\n",
            "315\n",
            "320\n",
            "325\n",
            "330\n",
            "335\n",
            "340\n",
            "345\n",
            "350\n",
            "355\n",
            "360\n",
            "365\n",
            "370\n",
            "375\n",
            "380\n",
            "385\n",
            "390\n",
            "395\n",
            "400\n",
            "405\n",
            "410\n",
            "415\n",
            "420\n",
            "425\n",
            "430\n",
            "435\n",
            "440\n",
            "445\n",
            "450\n",
            "455\n",
            "460\n",
            "465\n",
            "470\n",
            "475\n",
            "480\n",
            "485\n",
            "490\n",
            "495\n",
            "500\n",
            "505\n",
            "510\n",
            "515\n",
            "520\n",
            "525\n",
            "530\n",
            "535\n",
            "540\n",
            "545\n",
            "550\n",
            "555\n",
            "560\n",
            "565\n",
            "570\n",
            "575\n",
            "580\n",
            "585\n",
            "590\n",
            "595\n",
            "600\n",
            "605\n",
            "610\n",
            "615\n",
            "620\n",
            "625\n",
            "630\n",
            "635\n",
            "640\n",
            "645\n",
            "650\n",
            "655\n",
            "660\n",
            "665\n",
            "670\n",
            "675\n",
            "680\n",
            "685\n",
            "690\n",
            "695\n",
            "700\n",
            "705\n",
            "710\n",
            "715\n",
            "720\n",
            "725\n",
            "730\n",
            "735\n",
            "740\n",
            "745\n",
            "750\n",
            "755\n",
            "760\n",
            "765\n",
            "770\n",
            "775\n",
            "780\n",
            "785\n",
            "790\n",
            "795\n",
            "800\n",
            "805\n",
            "810\n",
            "815\n",
            "820\n",
            "825\n",
            "830\n",
            "835\n",
            "840\n",
            "845\n",
            "850\n",
            "855\n",
            "860\n",
            "865\n",
            "870\n",
            "875\n",
            "880\n",
            "885\n",
            "890\n",
            "895\n",
            "900\n",
            "905\n",
            "910\n",
            "915\n",
            "920\n",
            "925\n",
            "930\n",
            "935\n",
            "940\n",
            "945\n",
            "950\n",
            "955\n",
            "960\n",
            "965\n",
            "970\n",
            "975\n",
            "980\n",
            "985\n",
            "990\n",
            "995\n"
          ],
          "name": "stdout"
        }
      ]
    },
    {
      "cell_type": "code",
      "metadata": {
        "id": "8CZey5QFJeqF",
        "colab_type": "code",
        "colab": {
          "base_uri": "https://localhost:8080/",
          "height": 629
        },
        "outputId": "54ac7099-c5bc-406a-95a2-f9d0db07e3fb"
      },
      "source": [
        "count=1\n",
        "for i in range(1,1001):\n",
        "  if i%3==0:\n",
        "    print(\"%d \"%i, end=\"\")\n",
        "    if count%10 ==0:\n",
        "      print()\n",
        "    count += 1\n"
      ],
      "execution_count": 16,
      "outputs": [
        {
          "output_type": "stream",
          "text": [
            "3 6 9 12 15 18 21 24 27 30 \n",
            "33 36 39 42 45 48 51 54 57 60 \n",
            "63 66 69 72 75 78 81 84 87 90 \n",
            "93 96 99 102 105 108 111 114 117 120 \n",
            "123 126 129 132 135 138 141 144 147 150 \n",
            "153 156 159 162 165 168 171 174 177 180 \n",
            "183 186 189 192 195 198 201 204 207 210 \n",
            "213 216 219 222 225 228 231 234 237 240 \n",
            "243 246 249 252 255 258 261 264 267 270 \n",
            "273 276 279 282 285 288 291 294 297 300 \n",
            "303 306 309 312 315 318 321 324 327 330 \n",
            "333 336 339 342 345 348 351 354 357 360 \n",
            "363 366 369 372 375 378 381 384 387 390 \n",
            "393 396 399 402 405 408 411 414 417 420 \n",
            "423 426 429 432 435 438 441 444 447 450 \n",
            "453 456 459 462 465 468 471 474 477 480 \n",
            "483 486 489 492 495 498 501 504 507 510 \n",
            "513 516 519 522 525 528 531 534 537 540 \n",
            "543 546 549 552 555 558 561 564 567 570 \n",
            "573 576 579 582 585 588 591 594 597 600 \n",
            "603 606 609 612 615 618 621 624 627 630 \n",
            "633 636 639 642 645 648 651 654 657 660 \n",
            "663 666 669 672 675 678 681 684 687 690 \n",
            "693 696 699 702 705 708 711 714 717 720 \n",
            "723 726 729 732 735 738 741 744 747 750 \n",
            "753 756 759 762 765 768 771 774 777 780 \n",
            "783 786 789 792 795 798 801 804 807 810 \n",
            "813 816 819 822 825 828 831 834 837 840 \n",
            "843 846 849 852 855 858 861 864 867 870 \n",
            "873 876 879 882 885 888 891 894 897 900 \n",
            "903 906 909 912 915 918 921 924 927 930 \n",
            "933 936 939 942 945 948 951 954 957 960 \n",
            "963 966 969 972 975 978 981 984 987 990 \n",
            "993 996 999 "
          ],
          "name": "stdout"
        }
      ]
    },
    {
      "cell_type": "code",
      "metadata": {
        "id": "4IEedcICKwm2",
        "colab_type": "code",
        "colab": {}
      },
      "source": [
        ""
      ],
      "execution_count": 0,
      "outputs": []
    },
    {
      "cell_type": "markdown",
      "metadata": {
        "colab_type": "text",
        "id": "GJBs_flRovLc"
      },
      "source": [
        "## Getting Started\n",
        "\n",
        "The document you are reading is a  [Jupyter notebook](https://jupyter.org/), hosted in Colaboratory. It is not a static page, but an interactive environment that lets you write and execute code in Python and other languages.\n",
        "\n",
        "For example, here is a **code cell** with a short Python script that computes a value, stores it in a variable, and prints the result:"
      ]
    },
    {
      "cell_type": "code",
      "metadata": {
        "colab_type": "code",
        "id": "gJr_9dXGpJ05",
        "outputId": "5626194c-e802-4293-942d-2908885c3c1f",
        "colab": {
          "height": 35
        }
      },
      "source": [
        "seconds_in_a_day = 24 * 60 * 60\n",
        "seconds_in_a_day"
      ],
      "execution_count": 0,
      "outputs": [
        {
          "output_type": "execute_result",
          "data": {
            "text/plain": [
              "86400"
            ]
          },
          "metadata": {
            "tags": []
          },
          "execution_count": 0
        }
      ]
    },
    {
      "cell_type": "markdown",
      "metadata": {
        "colab_type": "text",
        "id": "2fhs6GZ4qFMx"
      },
      "source": [
        "To execute the code in the above cell, select it with a click and then either press the play button to the left of the code, or use the keyboard shortcut \"Command/Ctrl+Enter\".\n",
        "\n",
        "All cells modify the same global state, so variables that you define by executing a cell can be used in other cells:"
      ]
    },
    {
      "cell_type": "code",
      "metadata": {
        "colab_type": "code",
        "id": "-gE-Ez1qtyIA",
        "outputId": "8d2e4259-4682-4e19-b683-7b9087f28820",
        "colab": {
          "height": 35
        }
      },
      "source": [
        "seconds_in_a_week = 7 * seconds_in_a_day\n",
        "seconds_in_a_week"
      ],
      "execution_count": 0,
      "outputs": [
        {
          "output_type": "execute_result",
          "data": {
            "text/plain": [
              "604800"
            ]
          },
          "metadata": {
            "tags": []
          },
          "execution_count": 0
        }
      ]
    },
    {
      "cell_type": "markdown",
      "metadata": {
        "colab_type": "text",
        "id": "lSrWNr3MuFUS"
      },
      "source": [
        "For more information about working with Colaboratory notebooks, see [Overview of Colaboratory](/notebooks/basic_features_overview.ipynb).\n"
      ]
    },
    {
      "cell_type": "markdown",
      "metadata": {
        "colab_type": "text",
        "id": "-Rh3-Vt9Nev9"
      },
      "source": [
        "## More Resources\n",
        "\n",
        "Learn how to make the most of Python, Jupyter, Colaboratory, and related tools with these resources:\n",
        "\n",
        "### Working with Notebooks in Colaboratory\n",
        "- [Overview of Colaboratory](/notebooks/basic_features_overview.ipynb)\n",
        "- [Guide to Markdown](/notebooks/markdown_guide.ipynb)\n",
        "- [Importing libraries and installing dependencies](/notebooks/snippets/importing_libraries.ipynb)\n",
        "- [Saving and loading notebooks in GitHub](https://colab.research.google.com/github/googlecolab/colabtools/blob/master/notebooks/colab-github-demo.ipynb)\n",
        "- [Interactive forms](/notebooks/forms.ipynb)\n",
        "- [Interactive widgets](/notebooks/widgets.ipynb)\n",
        "- <img src=\"/img/new.png\" height=\"20px\" align=\"left\" hspace=\"4px\" alt=\"New\"></img>\n",
        " [TensorFlow 2 in Colab](/notebooks/tensorflow_version.ipynb)\n",
        "\n",
        "### Working with Data\n",
        "- [Loading data: Drive, Sheets, and Google Cloud Storage](/notebooks/io.ipynb) \n",
        "- [Charts: visualizing data](/notebooks/charts.ipynb)\n",
        "- [Getting started with BigQuery](/notebooks/bigquery.ipynb)\n",
        "\n",
        "### Machine Learning Crash Course\n",
        "These are a few of the notebooks from Google's online Machine Learning course. See the [full course website](https://developers.google.com/machine-learning/crash-course/) for more.\n",
        "- [Intro to Pandas](/notebooks/mlcc/intro_to_pandas.ipynb)\n",
        "- [Tensorflow concepts](/notebooks/mlcc/tensorflow_programming_concepts.ipynb)\n",
        "- [First steps with TensorFlow](/notebooks/mlcc/first_steps_with_tensor_flow.ipynb)\n",
        "- [Intro to neural nets](/notebooks/mlcc/intro_to_neural_nets.ipynb)\n",
        "- [Intro to sparse data and embeddings](/notebooks/mlcc/intro_to_sparse_data_and_embeddings.ipynb)\n",
        "\n",
        "### Using Accelerated Hardware\n",
        "- [TensorFlow with GPUs](/notebooks/gpu.ipynb)\n",
        "- [TensorFlow with TPUs](/notebooks/tpu.ipynb)"
      ]
    },
    {
      "cell_type": "markdown",
      "metadata": {
        "colab_type": "text",
        "id": "P-H6Lw1vyNNd"
      },
      "source": [
        "## Machine Learning Examples: Seedbank\n",
        "\n",
        "To see end-to-end examples of the interactive machine learning analyses that Colaboratory makes possible, check out the [Seedbank](https://research.google.com/seedbank/) project.\n",
        "\n",
        "A few featured examples:\n",
        "\n",
        "- [Neural Style Transfer](https://research.google.com/seedbank/seed/neural_style_transfer_with_tfkeras): Use deep learning to transfer style between images.\n",
        "- [EZ NSynth](https://research.google.com/seedbank/seed/ez_nsynth): Synthesize audio with WaveNet auto-encoders.\n",
        "- [Fashion MNIST with Keras and TPUs](https://research.google.com/seedbank/seed/fashion_mnist_with_keras_and_tpus): Classify fashion-related images with deep learning.\n",
        "- [DeepDream](https://research.google.com/seedbank/seed/deepdream): Produce DeepDream images from your own photos.\n",
        "- [Convolutional VAE](https://research.google.com/seedbank/seed/convolutional_vae): Create a generative model of handwritten digits."
      ]
    }
  ]
}